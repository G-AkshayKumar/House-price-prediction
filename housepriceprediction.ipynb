{
  "metadata": {
    "kernelspec": {
      "name": "python",
      "display_name": "Python (Pyodide)",
      "language": "python"
    },
    "language_info": {
      "codemirror_mode": {
        "name": "python",
        "version": 3
      },
      "file_extension": ".py",
      "mimetype": "text/x-python",
      "name": "python",
      "nbconvert_exporter": "python",
      "pygments_lexer": "ipython3",
      "version": "3.8"
    }
  },
  "nbformat_minor": 4,
  "nbformat": 4,
  "cells": [
    {
      "cell_type": "code",
      "source": "import numpy as np \nimport pandas as pd ",
      "metadata": {
        "trusted": true
      },
      "outputs": [],
      "execution_count": null
    },
    {
      "cell_type": "code",
      "source": "import pandas as pd\nimport numpy as np\nfrom sklearn.tree import DecisionTreeRegressor\nfrom sklearn.ensemble import RandomForestRegressor\nfrom sklearn.linear_model import LinearRegression\nimport matplotlib.pyplot as plt\nimport seaborn as sns\nfrom sklearn.model_selection import train_test_split\nfrom sklearn.metrics import mean_squared_error,mean_absolute_error,r2_score\n%matplotlib inline",
      "metadata": {
        "trusted": true
      },
      "outputs": [],
      "execution_count": null
    },
    {
      "cell_type": "code",
      "source": "pd.options.display.max_rows= 81\nmissing_percentage = traindf.isnull().sum()/len(traindf)*100\nmissing_percentage",
      "metadata": {
        "trusted": true
      },
      "outputs": [],
      "execution_count": null
    },
    {
      "cell_type": "code",
      "source": "pd.options.display.max_rows= 81\nmissing_percentage = testdf.isnull().sum()/len(testdf)*100\nmissing_percentage",
      "metadata": {
        "trusted": true
      },
      "outputs": [],
      "execution_count": null
    },
    {
      "cell_type": "code",
      "source": "missing_columns_train = traindf.loc[:,traindf.isnull().any()].columns\nmissing_columns_train",
      "metadata": {
        "trusted": true
      },
      "outputs": [],
      "execution_count": null
    },
    {
      "cell_type": "code",
      "source": "missing_value_df_train = traindf.loc[:,traindf.isnull().any()]\nmissing_columns_train = missing_value_df_train.columns\nmissing_columns_train",
      "metadata": {
        "trusted": true
      },
      "outputs": [],
      "execution_count": null
    },
    {
      "cell_type": "code",
      "source": "import random as rand\nlot_mean = traindf[\"LotFrontage\"].mean()\nlot_sd = traindf[\"LotFrontage\"].std()\nrandom_numbers = list()\nfor i in range(259):\n    random_numbers.append(rand.uniform(lot_mean-3*lot_sd,lot_mean+3*lot_sd))\ntraindf.loc[traindf[\"LotFrontage\"].isnull(),\"LotFrontage\"] = random_numbers",
      "metadata": {
        "trusted": true
      },
      "outputs": [],
      "execution_count": null
    },
    {
      "cell_type": "code",
      "source": "sns.distplot(testdf[\"LotFrontage\"])",
      "metadata": {
        "trusted": true
      },
      "outputs": [],
      "execution_count": null
    },
    {
      "cell_type": "code",
      "source": "from sklearn.preprocessing import OrdinalEncoder\nfrom sklearn.compose import ColumnTransformer\ncat_columns_train = list(traindf.select_dtypes(\"object\").columns)\ncat_columns_train = [x for x in cat_columns_train if x!= \"FireplaceQu\"]\ntransformer = ColumnTransformer(transformers=[(\"L\",OrdinalEncoder(),cat_columns_train)],remainder='passthrough')\ncat_columns_imputed_train = transformer.fit_transform(traindf[cat_columns_train])\ntraindf[cat_columns_train] = cat_columns_imputed_train\ncat_columns_test = list(testdf.select_dtypes(\"object\").columns)\ncat_columns_test = [x for x in cat_columns_test if x!= \"FireplaceQu\"]\ntransformer = ColumnTransformer(transformers=[(\"L\",OrdinalEncoder(),cat_columns_test)],remainder='passthrough')\ncat_columns_imputed_test = transformer.fit_transform(testdf[cat_columns_test])\ntestdf[cat_columns_test] = cat_columns_imputed_test\nencoder = OrdinalEncoder()\nnon_null_train = traindf[\"FireplaceQu\"].dropna()\nencoded_train = encoder.fit_transform(np.array(non_null_train).reshape(-1,1))\ntraindf.loc[traindf[\"FireplaceQu\"].notnull(),\"FireplaceQu\"] = np.squeeze(encoded_train)",
      "metadata": {
        "trusted": true
      },
      "outputs": [],
      "execution_count": null
    },
    {
      "cell_type": "code",
      "source": "!pip install fancyimpute\nfrom fancyimpute import KNN\nimputer = KNN(k=5)\nFireplaceQu_imputed = imputer.fit_transform(np.array(traindf[\"FireplaceQu\"]).reshape(-1,1))\ntraindf[\"FireplaceQu\"] = FireplaceQu_imputed",
      "metadata": {
        "trusted": true
      },
      "outputs": [],
      "execution_count": null
    },
    {
      "cell_type": "code",
      "source": "imputer = KNN(k=5)\nFireplaceQu_imputed = imputer.fit_transform(np.array(testdf[\"FireplaceQu\"]).reshape(-1,1))\ntestdf[\"FireplaceQu\"] = FireplaceQu_imputed",
      "metadata": {
        "trusted": true
      },
      "outputs": [],
      "execution_count": null
    },
    {
      "cell_type": "code",
      "source": "X = traindf.iloc[:,:75]\ny = traindf[\"SalePrice\"]",
      "metadata": {
        "trusted": true
      },
      "outputs": [],
      "execution_count": null
    },
    {
      "cell_type": "code",
      "source": "X_train,X_test,y_train,y_test = train_test_split(X,y,test_size=0.2)",
      "metadata": {
        "trusted": true
      },
      "outputs": [],
      "execution_count": null
    },
    {
      "cell_type": "code",
      "source": "model0 = DecisionTreeRegressor()\nmodel0.fit(X_train,y_train)\ny_pred = model0.predict(X_test)\nmae_0 = mean_absolute_error(y_test,y_pred)\nrmse_0 = np.sqrt(mean_squared_error(y_test,y_pred))\nr_squared_0 = r2_score(y_test,y_pred)\nprint(\"Root mean square error : \",rmse_0)\nprint(\"Mean absolute error : \",mae_0)\nprint(\"r squared : \",r_squared_0)",
      "metadata": {
        "trusted": true
      },
      "outputs": [],
      "execution_count": null
    },
    {
      "cell_type": "code",
      "source": "model1 = RandomForestRegressor(n_estimators=100,random_state=2)\nmodel1.fit(X_train,y_train)\ny_pred = model1.predict(X_test)\nmae_1 = mean_absolute_error(y_test,y_pred)\nrmse_1 = np.sqrt(mean_squared_error(y_test,y_pred))\nr_squared_1 = r2_score(y_test,y_pred)\nprint(\"Root mean square error : \",rmse_1)\nprint(\"Mean absolute error : \",mae_1)\nprint(\"r squared : \",r_squared_1)",
      "metadata": {
        "trusted": true
      },
      "outputs": [],
      "execution_count": null
    },
    {
      "cell_type": "code",
      "source": "model2 = LinearRegression()\nmodel2.fit(X_train,y_train)\ny_pred = model2.predict(X_test)\nmae_2 = mean_absolute_error(y_test,y_pred)\nrmse_2 = np.sqrt(mean_squared_error(y_test,y_pred))\nr_squared_2 = r2_score(y_test,y_pred)\nprint(\"Root mean square error : \",rmse_2)\nprint(\"Mean absolute error : \",mae_2)\nprint(\"r squared : \",r_squared_2)",
      "metadata": {
        "trusted": true
      },
      "outputs": [],
      "execution_count": null
    },
    {
      "cell_type": "code",
      "source": "from xgboost import XGBRegressor\nmodel3 = XGBRegressor(eta=0.1)\nmodel3.fit(X_train,y_train)\ny_pred = model3.predict(X_test)\nmae_3 = mean_absolute_error(y_test,y_pred)\nrmse_3 = np.sqrt(mean_squared_error(y_test,y_pred))\nr_squared_3 = r2_score(y_test,y_pred)\nprint(\"Root mean square error : \",rmse_3)\nprint(\"Mean absolute error : \",mae_3)\nprint(\"r squared : \",r_squared_3)",
      "metadata": {
        "trusted": true
      },
      "outputs": [],
      "execution_count": null
    },
    {
      "cell_type": "code",
      "source": "plotdf = pd.DataFrame({\"Models\":[\"Decision Tree\",\"Random Forest\",\"Linear Regression\",\"XGBoost Regressor\"],\n                      \"RMSE\":[rmse_0,rmse_1,rmse_2,rmse_3],\"MAE\":[mae_0,mae_1,mae_2,mae_3],\n                      \"R-Squared\":[r_squared_0,r_squared_1,r_squared_2,r_squared_3]})\nplotdf",
      "metadata": {
        "trusted": true
      },
      "outputs": [],
      "execution_count": null
    },
    {
      "cell_type": "code",
      "source": "y_pred_test = model3.predict(testdf)\ny_pred_test",
      "metadata": {
        "trusted": true
      },
      "outputs": [],
      "execution_count": null
    }
  ]
}